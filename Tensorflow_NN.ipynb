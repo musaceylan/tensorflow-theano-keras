{
 "cells": [
  {
   "cell_type": "code",
   "execution_count": 1,
   "metadata": {
    "ExecuteTime": {
     "end_time": "2016-12-26T11:28:47.445266",
     "start_time": "2016-12-26T11:28:44.423526"
    },
    "collapsed": false,
    "run_control": {
     "frozen": false,
     "read_only": false
    }
   },
   "outputs": [],
   "source": [
    "import tensorflow as tf\n",
    "import numpy as np\n",
    "import math\n",
    "\n",
    "sess = tf.InteractiveSession()\n",
    "\n",
    "# Some simple constants\n",
    "\n",
    "x1 = tf.Variable(tf.truncated_normal([5], mean=3, stddev=1./math.sqrt(5)))\n",
    "x2 = tf.Variable(tf.truncated_normal([5], mean=-1, stddev=1./math.sqrt(5)))\n",
    "x3 = tf.Variable(tf.truncated_normal([5], mean=0, stddev=1./math.sqrt(5)))\n"
   ]
  },
  {
   "cell_type": "code",
   "execution_count": 2,
   "metadata": {
    "ExecuteTime": {
     "end_time": "2016-12-26T11:29:30.890560",
     "start_time": "2016-12-26T11:29:30.840768"
    },
    "collapsed": true
   },
   "outputs": [],
   "source": [
    "sess.run(tf.initialize_all_variables())"
   ]
  },
  {
   "cell_type": "code",
   "execution_count": 3,
   "metadata": {
    "ExecuteTime": {
     "end_time": "2016-12-26T11:30:10.131453",
     "start_time": "2016-12-26T11:30:10.113521"
    },
    "collapsed": false
   },
   "outputs": [
    {
     "name": "stdout",
     "output_type": "stream",
     "text": [
      "[-1.24405909 -1.62133908 -0.77942348 -0.87037039 -0.75508702]\n",
      "[ 1.547683    2.62874031  0.60750097  0.75754464  0.5701564 ]\n"
     ]
    }
   ],
   "source": [
    "# Squaring makes large values extreme (but positive)\n",
    "# Be careful if you have negative values\n",
    "\n",
    "sqx2 = x2 * x2\n",
    "print(x2.eval())\n",
    "print(sqx2.eval())\n"
   ]
  },
  {
   "cell_type": "code",
   "execution_count": 5,
   "metadata": {
    "ExecuteTime": {
     "end_time": "2016-12-26T11:31:43.689944",
     "start_time": "2016-12-26T11:31:43.678729"
    },
    "collapsed": false
   },
   "outputs": [
    {
     "name": "stdout",
     "output_type": "stream",
     "text": [
      "[ 3.31315041  2.50278139  3.50320244  2.34984136  2.9814868 ]\n",
      "[ 1.19789958  0.91740268  1.25367749  0.85434783  1.09242213]\n"
     ]
    }
   ],
   "source": [
    "\n",
    "# Logarithm makes small values more pronounced (and negative)\n",
    "# Be careful that your algorithm can handle negative numbers\n",
    "\n",
    "logx1 = tf.log(x1)\n",
    "print(x1.eval())\n",
    "print(logx1.eval())\n",
    "\n"
   ]
  },
  {
   "cell_type": "code",
   "execution_count": 6,
   "metadata": {
    "ExecuteTime": {
     "end_time": "2016-12-26T11:36:52.065801",
     "start_time": "2016-12-26T11:36:52.041546"
    },
    "collapsed": false
   },
   "outputs": [
    {
     "name": "stdout",
     "output_type": "stream",
     "text": [
      "[-0.2372137   0.27611151  0.40040392  0.14891461 -0.08319866]\n",
      "[ 0.44097307  0.56859267  0.59878474  0.53715998  0.47921234]\n"
     ]
    }
   ],
   "source": [
    "# \"sigmoid\" is a common transformation in deep learning\n",
    "# Extreme values get flattened to +1 or 0\n",
    "sigx3 = tf.sigmoid(x3)\n",
    "print(x3.eval())\n",
    "print(sigx3.eval())"
   ]
  },
  {
   "cell_type": "code",
   "execution_count": 7,
   "metadata": {
    "ExecuteTime": {
     "end_time": "2016-12-26T11:39:14.714756",
     "start_time": "2016-12-26T11:39:14.678391"
    },
    "collapsed": false
   },
   "outputs": [
    {
     "name": "stdout",
     "output_type": "stream",
     "text": [
      "[ 0.3022891   0.2500813   0.2847403   0.37150174  0.32027802]\n",
      "[-0.2901791  -0.1946023  -0.14195304 -0.14737432 -0.33529058]\n",
      "[ 0.5030275   0.51386619  0.53563631  0.55579847  0.49624693]\n"
     ]
    }
   ],
   "source": [
    "w1 = tf.constant(0.1)\n",
    "w2=tf.constant(0.2)\n",
    "sess.run(tf.initialize_all_variables())\n",
    "\n",
    "n1 = tf.sigmoid(w1*x1 + w2*x2)\n",
    "print((w1*x1).eval())\n",
    "print((w2*x2).eval())\n",
    "print(n1.eval())"
   ]
  },
  {
   "cell_type": "code",
   "execution_count": null,
   "metadata": {
    "collapsed": true
   },
   "outputs": [],
   "source": []
  }
 ],
 "metadata": {
  "anaconda-cloud": {},
  "hide_input": false,
  "kernelspec": {
   "display_name": "Python [default]",
   "language": "python",
   "name": "python3"
  },
  "language_info": {
   "codemirror_mode": {
    "name": "ipython",
    "version": 3
   },
   "file_extension": ".py",
   "mimetype": "text/x-python",
   "name": "python",
   "nbconvert_exporter": "python",
   "pygments_lexer": "ipython3",
   "version": "3.5.2"
  },
  "latex_envs": {
   "LaTeX_envs_menu_present": true,
   "bibliofile": "biblio.bib",
   "cite_by": "apalike",
   "current_citInitial": 1,
   "eqLabelWithNumbers": true,
   "eqNumInitial": 1,
   "labels_anchors": false,
   "latex_user_defs": false,
   "report_style_numbering": false,
   "user_envs_cfg": false
  },
  "toc": {
   "colors": {
    "hover_highlight": "#DAA520",
    "running_highlight": "#FF0000",
    "selected_highlight": "#FFD700"
   },
   "moveMenuLeft": true,
   "nav_menu": {
    "height": "4px",
    "width": "254px"
   },
   "navigate_menu": true,
   "number_sections": true,
   "sideBar": true,
   "threshold": 4,
   "toc_cell": false,
   "toc_section_display": "block",
   "toc_window_display": false
  }
 },
 "nbformat": 4,
 "nbformat_minor": 1
}
