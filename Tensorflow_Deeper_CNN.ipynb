{
 "cells": [
  {
   "cell_type": "code",
   "execution_count": 2,
   "metadata": {
    "ExecuteTime": {
     "end_time": "2017-01-03T20:39:50.944226",
     "start_time": "2017-01-03T20:39:48.576312"
    },
    "collapsed": false,
    "run_control": {
     "frozen": false,
     "read_only": false
    }
   },
   "outputs": [],
   "source": [
    "import tensorflow as tf\n",
    "import math\n",
    "import numpy as np "
   ]
  },
  {
   "cell_type": "code",
   "execution_count": 3,
   "metadata": {
    "ExecuteTime": {
     "end_time": "2017-01-03T20:39:50.953264",
     "start_time": "2017-01-03T20:39:50.946089"
    },
    "collapsed": false,
    "run_control": {
     "frozen": false,
     "read_only": false
    }
   },
   "outputs": [],
   "source": [
    "try:\n",
    "    from tqdm import tqdm\n",
    "except ImportError:\n",
    "    def tqdm(x,*args , **kwargs):\n",
    "        return x"
   ]
  },
  {
   "cell_type": "code",
   "execution_count": 4,
   "metadata": {
    "ExecuteTime": {
     "end_time": "2017-01-03T20:39:54.837782",
     "start_time": "2017-01-03T20:39:54.777465"
    },
    "collapsed": false,
    "run_control": {
     "frozen": false,
     "read_only": false
    }
   },
   "outputs": [
    {
     "name": "stdout",
     "output_type": "stream",
     "text": [
      "[[ 0.  0.  0. ...,  0.  0.  0.]\n",
      " [ 0.  0.  0. ...,  0.  0.  0.]\n",
      " [ 0.  0.  0. ...,  0.  0.  0.]\n",
      " ..., \n",
      " [ 0.  0.  0. ...,  0.  0.  0.]\n",
      " [ 0.  0.  0. ...,  0.  0.  0.]\n",
      " [ 0.  0.  0. ...,  0.  0.  0.]]\n",
      "0\n"
     ]
    }
   ],
   "source": [
    "data = np.load('data_with_labels.npz')\n",
    "train= data['arr_0']/255.\n",
    "labels = data['arr_1']\n",
    "\n",
    "print(train[0])\n",
    "print(labels[0])"
   ]
  },
  {
   "cell_type": "code",
   "execution_count": 5,
   "metadata": {
    "ExecuteTime": {
     "end_time": "2017-01-03T20:39:55.877955",
     "start_time": "2017-01-03T20:39:55.438031"
    },
    "collapsed": false,
    "run_control": {
     "frozen": false,
     "read_only": false
    }
   },
   "outputs": [],
   "source": [
    "import matplotlib.pyplot as plt\n",
    "plt.ion()"
   ]
  },
  {
   "cell_type": "code",
   "execution_count": 6,
   "metadata": {
    "ExecuteTime": {
     "end_time": "2017-01-03T20:39:55.974424",
     "start_time": "2017-01-03T20:39:55.963037"
    },
    "collapsed": false,
    "run_control": {
     "frozen": false,
     "read_only": false
    }
   },
   "outputs": [
    {
     "name": "stdout",
     "output_type": "stream",
     "text": [
      "[[ 1.  0.  0.  0.  0.]\n",
      " [ 1.  0.  0.  0.  0.]\n",
      " [ 1.  0.  0.  0.  0.]\n",
      " ..., \n",
      " [ 0.  0.  0.  0.  1.]\n",
      " [ 0.  0.  0.  0.  1.]\n",
      " [ 0.  0.  0.  0.  1.]]\n"
     ]
    }
   ],
   "source": [
    "def to_onehot(labels, nclasses = 5):\n",
    "    '''\n",
    "    Convert labels to \"one-hot\" format.\n",
    "    >>> a = [0,1,2,3]\n",
    "    >>> to_onehot(a,5)\n",
    "    array([[1., 0., 0., 0., 0.],\n",
    "           [0., 1., 0., 0., 0.],\n",
    "           [0., 0., 1., 0., 0.],\n",
    "           [0., 0., 0., 1. 0.]])\n",
    "    '''\n",
    "    outlabels = np.zeros((len(labels), nclasses))\n",
    "    for i, l in enumerate(labels):\n",
    "        outlabels[i,l] = 1\n",
    "    return outlabels\n",
    "\n",
    "onehot = to_onehot(labels)\n",
    "\n",
    "print(onehot)"
   ]
  },
  {
   "cell_type": "code",
   "execution_count": 7,
   "metadata": {
    "ExecuteTime": {
     "end_time": "2017-01-03T20:39:56.715392",
     "start_time": "2017-01-03T20:39:56.679227"
    },
    "collapsed": false,
    "run_control": {
     "frozen": false,
     "read_only": false
    }
   },
   "outputs": [],
   "source": [
    "# Split data into training and validation\n",
    "\n",
    "indices = np.random.permutation(train.shape[0])\n",
    "valid_cnt = int(train.shape[0] * 0.1)\n",
    "test_idx, training_idx = indices[:valid_cnt], indices[valid_cnt:]\n",
    "test, train = train[test_idx, :], train[training_idx, :]\n",
    "onehot_test, onehot_train = onehot[test_idx, :], onehot[training_idx, :]\n"
   ]
  },
  {
   "cell_type": "code",
   "execution_count": 8,
   "metadata": {
    "ExecuteTime": {
     "end_time": "2017-01-03T20:39:57.184744",
     "start_time": "2017-01-03T20:39:57.171444"
    },
    "collapsed": false,
    "run_control": {
     "frozen": false,
     "read_only": false
    }
   },
   "outputs": [],
   "source": [
    "sess = tf.InteractiveSession()"
   ]
  },
  {
   "cell_type": "code",
   "execution_count": 9,
   "metadata": {
    "ExecuteTime": {
     "end_time": "2017-01-03T20:39:57.790283",
     "start_time": "2017-01-03T20:39:57.749418"
    },
    "collapsed": false,
    "run_control": {
     "frozen": false,
     "read_only": false
    }
   },
   "outputs": [],
   "source": [
    "\n",
    "# These will be inputs\n",
    "## Input pixes, flattened\n",
    "x = tf.placeholder(\"float\", [None, 36,36])\n",
    "x_im = tf.reshape(x,[-1,36,36,1])\n",
    "\n",
    "## Known labels\n",
    "y_ = tf.placeholder(\"float\", [None, 5])"
   ]
  },
  {
   "cell_type": "code",
   "execution_count": 10,
   "metadata": {
    "ExecuteTime": {
     "end_time": "2017-01-03T20:39:58.489612",
     "start_time": "2017-01-03T20:39:58.485955"
    },
    "collapsed": false,
    "run_control": {
     "frozen": false,
     "read_only": false
    }
   },
   "outputs": [],
   "source": [
    "# Con Layer 1 \n",
    "num_filters1 = 16 \n",
    "winx=3\n",
    "winy=3\n"
   ]
  },
  {
   "cell_type": "code",
   "execution_count": 11,
   "metadata": {
    "ExecuteTime": {
     "end_time": "2017-01-03T20:39:59.247842",
     "start_time": "2017-01-03T20:39:59.214582"
    },
    "collapsed": false,
    "run_control": {
     "frozen": false,
     "read_only": false
    }
   },
   "outputs": [],
   "source": [
    "W1 = tf.Variable(tf.truncated_normal([winx,winy,1,num_filters1],stddev=1./math.sqrt(winx*winy)))\n",
    "b1 = tf.Variable(tf.constant(0.1, shape=[num_filters1]))\n",
    "\n",
    "xw = tf.nn.conv2d(x_im,W1,strides=[1,1,1,1],padding='SAME')\n",
    "h1 = tf.nn.relu(xw+b1)\n",
    "p1 = tf.nn.max_pool(h1,ksize=[1,2,2,1],strides=[1,2,2,1],padding='VALID')\n"
   ]
  },
  {
   "cell_type": "code",
   "execution_count": 12,
   "metadata": {
    "ExecuteTime": {
     "end_time": "2017-01-03T20:39:59.912512",
     "start_time": "2017-01-03T20:39:59.908657"
    },
    "collapsed": false,
    "run_control": {
     "frozen": false,
     "read_only": false
    }
   },
   "outputs": [],
   "source": [
    "# conv layer 2 \n",
    "num_filters2 = 4\n",
    "winx2= 3\n",
    "winy2= 3\n"
   ]
  },
  {
   "cell_type": "code",
   "execution_count": 13,
   "metadata": {
    "ExecuteTime": {
     "end_time": "2017-01-03T20:40:00.672498",
     "start_time": "2017-01-03T20:40:00.642833"
    },
    "collapsed": false,
    "run_control": {
     "frozen": false,
     "marked": false,
     "read_only": false
    }
   },
   "outputs": [],
   "source": [
    "W2 = tf.Variable(tf.truncated_normal([winx2,winy2,num_filters1, num_filters2],stddev=1./math.sqrt(winx2*winy2)))\n",
    "b2 = tf.Variable(tf.constant(0.1,shape=[num_filters2]))\n",
    "\n",
    "p1w2 = tf.nn.conv2d(p1,W2,strides=[1,1,1,1],padding='SAME')\n",
    "h1 = tf.nn.relu(p1w2+b2)\n",
    "p2 = tf.nn.max_pool(h1,ksize=[1,2,2,1],strides=[1,2,2,1],padding='VALID')\n",
    "\n"
   ]
  },
  {
   "cell_type": "code",
   "execution_count": 14,
   "metadata": {
    "ExecuteTime": {
     "end_time": "2017-01-03T20:40:01.297552",
     "start_time": "2017-01-03T20:40:01.291436"
    },
    "collapsed": false,
    "run_control": {
     "frozen": false,
     "read_only": false
    }
   },
   "outputs": [],
   "source": [
    "p2_size = np.product([s.value for s in p2.get_shape()[1:]])\n",
    "p2f = tf.reshape(p2, [-1,p2_size])\n"
   ]
  },
  {
   "cell_type": "code",
   "execution_count": 15,
   "metadata": {
    "ExecuteTime": {
     "end_time": "2017-01-03T20:40:01.923762",
     "start_time": "2017-01-03T20:40:01.898319"
    },
    "collapsed": false,
    "run_control": {
     "frozen": false,
     "read_only": false
    }
   },
   "outputs": [],
   "source": [
    "#dense layer \n",
    "num_hidden =32\n",
    "W3 = tf.Variable(tf.truncated_normal([p2_size,num_hidden],stddev=2./math.sqrt(p2_size)))\n",
    "b3 = tf.Variable(tf.constant(0.2,shape=[num_hidden]))\n",
    "h3 = tf.nn.relu(tf.matmul(p2f,W3)+b3)"
   ]
  },
  {
   "cell_type": "code",
   "execution_count": 16,
   "metadata": {
    "ExecuteTime": {
     "end_time": "2017-01-03T20:40:02.506183",
     "start_time": "2017-01-03T20:40:02.490726"
    },
    "collapsed": false,
    "run_control": {
     "frozen": false,
     "read_only": false
    }
   },
   "outputs": [],
   "source": [
    "keep_prob = tf.placeholder(\"float\")\n",
    "h3_drop = tf.nn.dropout(h3,keep_prob)"
   ]
  },
  {
   "cell_type": "code",
   "execution_count": 17,
   "metadata": {
    "ExecuteTime": {
     "end_time": "2017-01-03T20:40:03.173457",
     "start_time": "2017-01-03T20:40:03.152654"
    },
    "collapsed": false,
    "run_control": {
     "frozen": false,
     "read_only": false
    }
   },
   "outputs": [],
   "source": [
    "#output \n",
    "W4 = tf.Variable(tf.truncated_normal([num_hidden,5],stddev=1./math.sqrt(num_hidden)))\n",
    "b4 = tf.Variable(tf.constant(0.1,shape=[5]))\n"
   ]
  },
  {
   "cell_type": "code",
   "execution_count": 18,
   "metadata": {
    "ExecuteTime": {
     "end_time": "2017-01-03T20:40:03.885052",
     "start_time": "2017-01-03T20:40:03.784612"
    },
    "collapsed": false,
    "run_control": {
     "frozen": false,
     "read_only": false
    }
   },
   "outputs": [],
   "source": [
    "sess.run(tf.initialize_all_variables())\n",
    "y = tf.nn.softmax(tf.matmul(h3_drop,W4) + b4)"
   ]
  },
  {
   "cell_type": "code",
   "execution_count": 19,
   "metadata": {
    "ExecuteTime": {
     "end_time": "2017-01-03T20:40:04.820078",
     "start_time": "2017-01-03T20:40:04.553606"
    },
    "collapsed": false,
    "run_control": {
     "frozen": false,
     "read_only": false
    }
   },
   "outputs": [],
   "source": [
    "cross_entropy  = tf.reduce_mean(tf.nn.softmax_cross_entropy_with_logits(y + 1e-50 ,y_))\n",
    "train_step = tf.train.GradientDescentOptimizer(0.01).minimize(cross_entropy)"
   ]
  },
  {
   "cell_type": "code",
   "execution_count": 21,
   "metadata": {
    "ExecuteTime": {
     "end_time": "2017-01-03T20:40:13.281768",
     "start_time": "2017-01-03T20:40:13.267572"
    },
    "collapsed": false,
    "run_control": {
     "frozen": false,
     "read_only": false
    }
   },
   "outputs": [],
   "source": [
    "correct_prediction = tf.equal(tf.argmax(y,1),tf.argmax(y_,1))\n",
    "accuracy = tf.reduce_mean(tf.cast(correct_prediction,\"float\"))"
   ]
  },
  {
   "cell_type": "code",
   "execution_count": 22,
   "metadata": {
    "ExecuteTime": {
     "end_time": "2017-01-03T23:37:09.384334",
     "start_time": "2017-01-03T20:41:45.649395"
    },
    "collapsed": true
   },
   "outputs": [],
   "source": [
    "epochs = 6000 \n",
    "train_acc = np.zeros(epochs//10)\n",
    "test_acc = np.zeros(epochs// 10)\n",
    "\n",
    "for i in tqdm(range(epochs), ascii=True):\n",
    "    if i % 10 == 0 :\n",
    "        A = accuracy.eval(feed_dict={x :train, y_: onehot_train,keep_prob:1.0})\n",
    "        train_acc[i//10] = A\n",
    "        A = accuracy.eval(feed_dict={x:test,y_:onehot_test, keep_prob:1.0})\n",
    "        test_acc[i//10] = A\n",
    "    train_step.run(feed_dict={x:train,y_:onehot_train,keep_prob:0.5})"
   ]
  },
  {
   "cell_type": "code",
   "execution_count": 23,
   "metadata": {
    "ExecuteTime": {
     "end_time": "2017-01-03T23:48:13.989382",
     "start_time": "2017-01-03T23:48:13.472084"
    },
    "collapsed": false
   },
   "outputs": [
    {
     "data": {
      "text/plain": [
       "[<matplotlib.lines.Line2D at 0x1171de198>]"
      ]
     },
     "execution_count": 23,
     "metadata": {},
     "output_type": "execute_result"
    },
    {
     "data": {
      "image/png": "[encoded data removed]",
      "text/plain": [
       "<matplotlib.figure.Figure at 0x1171de160>"
      ]
     },
     "metadata": {},
     "output_type": "display_data"
    }
   ],
   "source": [
    "plt.figure(figsize=(6,6))\n",
    "plt.plot(train_acc,'bo')\n",
    "plt.plot(test_acc,'rx')\n"
   ]
  },
  {
   "cell_type": "code",
   "execution_count": 25,
   "metadata": {
    "ExecuteTime": {
     "end_time": "2017-01-03T23:49:15.407378",
     "start_time": "2017-01-03T23:49:15.266150"
    },
    "collapsed": false
   },
   "outputs": [],
   "source": [
    "pred = np.argmax(y.eval(feed_dict={x:test,keep_prob:1.0,y_:onehot_test}),axis=1)\n",
    "conf = np.zeros([5,5])\n",
    "for p,t in zip(pred,np.argmax(onehot_test,axis=1)):\n",
    "    conf[t,p] += 1   "
   ]
  },
  {
   "cell_type": "code",
   "execution_count": 26,
   "metadata": {
    "ExecuteTime": {
     "end_time": "2017-01-03T23:49:16.696922",
     "start_time": "2017-01-03T23:49:16.360855"
    },
    "collapsed": false
   },
   "outputs": [
    {
     "data": {
      "text/plain": [
       "<matplotlib.colorbar.Colorbar at 0x10558bf98>"
      ]
     },
     "execution_count": 26,
     "metadata": {},
     "output_type": "execute_result"
    },
    {
     "data": {
      "image/png": "[encoded data removed]",
      "text/plain": [
       "<matplotlib.figure.Figure at 0x10558be10>"
      ]
     },
     "metadata": {},
     "output_type": "display_data"
    }
   ],
   "source": [
    "plt.matshow(conf)\n",
    "plt.colorbar()"
   ]
  },
  {
   "cell_type": "code",
   "execution_count": 28,
   "metadata": {
    "ExecuteTime": {
     "end_time": "2017-01-03T23:49:54.555184",
     "start_time": "2017-01-03T23:49:52.828930"
    },
    "collapsed": false
   },
   "outputs": [
    {
     "data": {
      "image/png": "[encoded data removed]",
      "text/plain": [
       "<matplotlib.figure.Figure at 0x1171ed828>"
      ]
     },
     "metadata": {},
     "output_type": "display_data"
    }
   ],
   "source": [
    "f, plts = plt.subplots(4,4)\n",
    "for i in range(16):\n",
    "    plts[i//4,i%4].matshow(W1.eval()[:,:,0,i],cmap = plt.cm.gray_r)"
   ]
  },
  {
   "cell_type": "code",
   "execution_count": 29,
   "metadata": {
    "ExecuteTime": {
     "end_time": "2017-01-03T23:49:58.883531",
     "start_time": "2017-01-03T23:49:58.505999"
    },
    "collapsed": false
   },
   "outputs": [
    {
     "data": {
      "text/plain": [
       "<matplotlib.colorbar.Colorbar at 0x11a28ef28>"
      ]
     },
     "execution_count": 29,
     "metadata": {},
     "output_type": "execute_result"
    },
    {
     "data": {
      "image/png": "[encoded data removed]",
      "text/plain": [
       "<matplotlib.figure.Figure at 0x11a28ef60>"
      ]
     },
     "metadata": {},
     "output_type": "display_data"
    }
   ],
   "source": [
    "plt.matshow(W4.eval().T)\n",
    "plt.colorbar()"
   ]
  },
  {
   "cell_type": "code",
   "execution_count": 30,
   "metadata": {
    "ExecuteTime": {
     "end_time": "2017-01-03T23:50:01.775960",
     "start_time": "2017-01-03T23:50:00.260974"
    },
    "collapsed": true
   },
   "outputs": [],
   "source": [
    "#save the weights \n",
    "saver = tf.train.Saver()\n",
    "saver.save(sess,\"conv1.ckpt\")\n",
    "\n",
    "#restore \n",
    "\n",
    "saver.restore(sess,\"conv1.ckpt\")"
   ]
  },
  {
   "cell_type": "code",
   "execution_count": null,
   "metadata": {
    "collapsed": true
   },
   "outputs": [],
   "source": []
  }
 ],
 "metadata": {
  "anaconda-cloud": {},
  "hide_input": false,
  "kernelspec": {
   "display_name": "Python [default]",
   "language": "python",
   "name": "python3"
  },
  "latex_envs": {
   "LaTeX_envs_menu_present": true,
   "bibliofile": "biblio.bib",
   "cite_by": "apalike",
   "current_citInitial": 1,
   "eqLabelWithNumbers": true,
   "eqNumInitial": 1,
   "labels_anchors": false,
   "latex_user_defs": false,
   "report_style_numbering": false,
   "user_envs_cfg": false
  },
  "toc": {
   "colors": {
    "hover_highlight": "#DAA520",
    "running_highlight": "#FF0000",
    "selected_highlight": "#FFD700"
   },
   "moveMenuLeft": true,
   "nav_menu": {
    "height": "4px",
    "width": "254px"
   },
   "navigate_menu": true,
   "number_sections": true,
   "sideBar": true,
   "threshold": 4,
   "toc_cell": false,
   "toc_section_display": "block",
   "toc_window_display": false
  }
 },
 "nbformat": 4,
 "nbformat_minor": 2
}
