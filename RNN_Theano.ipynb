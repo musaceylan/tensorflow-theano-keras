{
 "cells": [
  {
   "cell_type": "code",
   "execution_count": 1,
   "metadata": {
    "ExecuteTime": {
     "end_time": "2016-12-25T13:38:42.362303",
     "start_time": "2016-12-25T13:38:42.358719"
    },
    "collapsed": false,
    "run_control": {
     "frozen": false,
     "read_only": false
    }
   },
   "outputs": [],
   "source": [
    "from __future__ import print_function"
   ]
  },
  {
   "cell_type": "code",
   "execution_count": 2,
   "metadata": {
    "ExecuteTime": {
     "end_time": "2016-12-25T13:39:23.829705",
     "start_time": "2016-12-25T13:39:23.822995"
    },
    "collapsed": true
   },
   "outputs": [],
   "source": [
    "length = 10\n",
    "h_tm2 = 0 \n",
    "h_tm1 = 1 \n",
    "\n",
    "seq = []\n",
    "\n"
   ]
  },
  {
   "cell_type": "code",
   "execution_count": 4,
   "metadata": {
    "ExecuteTime": {
     "end_time": "2016-12-25T13:43:13.181347",
     "start_time": "2016-12-25T13:43:13.176287"
    },
    "collapsed": true
   },
   "outputs": [],
   "source": [
    "def step (h_tm1,h_tm2):\n",
    "    h_t = h_tm1 + h_tm2\n",
    "    return h_t,h_tm1"
   ]
  },
  {
   "cell_type": "code",
   "execution_count": 5,
   "metadata": {
    "ExecuteTime": {
     "end_time": "2016-12-25T13:43:14.075742",
     "start_time": "2016-12-25T13:43:14.070800"
    },
    "collapsed": false
   },
   "outputs": [
    {
     "name": "stdout",
     "output_type": "stream",
     "text": [
      "[1, 2, 3, 5, 8, 13, 21, 34, 55, 89]\n"
     ]
    }
   ],
   "source": [
    "for i in range(length):\n",
    "    h_tm1,h_tm2 = step (h_tm1,h_tm2)\n",
    "    seq.append(h_tm1)\n",
    "    \n",
    "print(seq)    "
   ]
  },
  {
   "cell_type": "code",
   "execution_count": 6,
   "metadata": {
    "ExecuteTime": {
     "end_time": "2016-12-25T13:43:32.304220",
     "start_time": "2016-12-25T13:43:32.301498"
    },
    "collapsed": true
   },
   "outputs": [],
   "source": [
    "from theano import tensor as T,scan,function"
   ]
  },
  {
   "cell_type": "code",
   "execution_count": 11,
   "metadata": {
    "ExecuteTime": {
     "end_time": "2016-12-25T13:47:25.189520",
     "start_time": "2016-12-25T13:47:25.184836"
    },
    "collapsed": true
   },
   "outputs": [],
   "source": [
    "h1 , h2 = T.scalars('h_tm1','h_tm2')\n",
    "\n",
    "def _step(h_tm1,h_tm2):\n",
    "    h_t = h_tm1 +h_tm2\n",
    "    return h_t,h_tm1\n"
   ]
  },
  {
   "cell_type": "code",
   "execution_count": 12,
   "metadata": {
    "ExecuteTime": {
     "end_time": "2016-12-25T13:47:26.256734",
     "start_time": "2016-12-25T13:47:25.905063"
    },
    "collapsed": false
   },
   "outputs": [],
   "source": [
    "outputs, updates = scan(_step,sequences=[],outputs_info=[h1,h2],n_steps=length)"
   ]
  },
  {
   "cell_type": "code",
   "execution_count": 15,
   "metadata": {
    "ExecuteTime": {
     "end_time": "2016-12-25T13:48:19.063434",
     "start_time": "2016-12-25T13:48:18.794416"
    },
    "collapsed": true
   },
   "outputs": [],
   "source": [
    "F = function([h2,h1],outputs)"
   ]
  },
  {
   "cell_type": "code",
   "execution_count": 16,
   "metadata": {
    "ExecuteTime": {
     "end_time": "2016-12-25T13:48:19.082809",
     "start_time": "2016-12-25T13:48:19.066737"
    },
    "collapsed": false
   },
   "outputs": [
    {
     "data": {
      "text/plain": [
       "[array([  1.,   2.,   3.,   5.,   8.,  13.,  21.,  34.,  55.,  89.]),\n",
       " array([  1.,   1.,   2.,   3.,   5.,   8.,  13.,  21.,  34.,  55.])]"
      ]
     },
     "execution_count": 16,
     "metadata": {},
     "output_type": "execute_result"
    }
   ],
   "source": [
    "F(0,1)"
   ]
  },
  {
   "cell_type": "markdown",
   "metadata": {},
   "source": [
    "# RNN"
   ]
  },
  {
   "cell_type": "code",
   "execution_count": 1,
   "metadata": {
    "ExecuteTime": {
     "end_time": "2016-12-25T15:30:38.316056",
     "start_time": "2016-12-25T15:30:36.565397"
    },
    "collapsed": true
   },
   "outputs": [],
   "source": [
    "%matplotlib inline\n",
    "import matplotlib.pyplot as plt\n",
    "\n",
    "import numpy as np\n",
    "from theano import tensor as T,function,scan\n"
   ]
  },
  {
   "cell_type": "code",
   "execution_count": 2,
   "metadata": {
    "ExecuteTime": {
     "end_time": "2016-12-25T15:30:39.949394",
     "start_time": "2016-12-25T15:30:39.304170"
    },
    "collapsed": true
   },
   "outputs": [],
   "source": [
    "X = T.tensor3('X')\n",
    "W,U,init_h = T.matrices('W_xh','W_xx','init_h')\n",
    "b = T.vector('b')\n",
    "\n",
    "def step (Wx_t,h_tm1,U):\n",
    "    h_t = T.tanh(Wx_t+ T.dot(h_tm1,U))\n",
    "    return h_t\n",
    "\n",
    "Wx = T.dot(X,W) + b\n",
    "Wx = Wx.dimshuffle(1,0,2)\n",
    "\n",
    "outputs,updates = scan(step, sequences=Wx,outputs_info=init_h,non_sequences=U)\n",
    "\n"
   ]
  },
  {
   "cell_type": "code",
   "execution_count": 5,
   "metadata": {
    "ExecuteTime": {
     "end_time": "2016-12-25T15:43:25.269559",
     "start_time": "2016-12-25T15:43:24.592854"
    },
    "collapsed": true
   },
   "outputs": [],
   "source": [
    "F= function([X,init_h,W,U,b],outputs)"
   ]
  },
  {
   "cell_type": "code",
   "execution_count": 7,
   "metadata": {
    "ExecuteTime": {
     "end_time": "2016-12-25T15:44:11.214527",
     "start_time": "2016-12-25T15:44:11.109999"
    },
    "collapsed": false
   },
   "outputs": [],
   "source": [
    "time = 100\n",
    "batch = 50\n",
    "dim = 20 \n",
    "hidden_dim = 30 \n",
    "\n",
    "\n",
    "xx = np.random.randn(batch,time, dim)\n",
    "hh = np.zeros((batch,hidden_dim))\n",
    "ww = .1 * np.ones((dim,hidden_dim))\n",
    "uu = .1 * np.ones((hidden_dim,hidden_dim))\n",
    "bb = np.random.normal(0,.1,hidden_dim)\n",
    "\n",
    "y = F(xx,hh,ww,uu,bb)\n",
    "\n",
    "\n"
   ]
  },
  {
   "cell_type": "code",
   "execution_count": 8,
   "metadata": {
    "ExecuteTime": {
     "end_time": "2016-12-25T15:44:40.722121",
     "start_time": "2016-12-25T15:44:40.331163"
    },
    "collapsed": false
   },
   "outputs": [
    {
     "data": {
      "text/plain": [
       "[<matplotlib.lines.Line2D at 0x112d3af98>]"
      ]
     },
     "execution_count": 8,
     "metadata": {},
     "output_type": "execute_result"
    },
    {
     "data": {
      "image/png": "[encoded data removed]",
      "text/plain": [
       "<matplotlib.figure.Figure at 0x110095dd8>"
      ]
     },
     "metadata": {},
     "output_type": "display_data"
    }
   ],
   "source": [
    "plt.plot(y[0,:,0])"
   ]
  },
  {
   "cell_type": "code",
   "execution_count": null,
   "metadata": {
    "collapsed": true
   },
   "outputs": [],
   "source": []
  }
 ],
 "metadata": {
  "anaconda-cloud": {},
  "hide_input": false,
  "kernelspec": {
   "display_name": "Python [default]",
   "language": "python",
   "name": "python3"
  },
  "language_info": {
   "codemirror_mode": {
    "name": "ipython",
    "version": 3
   },
   "file_extension": ".py",
   "mimetype": "text/x-python",
   "name": "python",
   "nbconvert_exporter": "python",
   "pygments_lexer": "ipython3",
   "version": "3.5.2"
  },
  "latex_envs": {
   "LaTeX_envs_menu_present": true,
   "bibliofile": "biblio.bib",
   "cite_by": "apalike",
   "current_citInitial": 1,
   "eqLabelWithNumbers": true,
   "eqNumInitial": 1,
   "labels_anchors": false,
   "latex_user_defs": false,
   "report_style_numbering": false,
   "user_envs_cfg": false
  },
  "toc": {
   "colors": {
    "hover_highlight": "#DAA520",
    "running_highlight": "#FF0000",
    "selected_highlight": "#FFD700"
   },
   "moveMenuLeft": true,
   "nav_menu": {
    "height": "26px",
    "width": "254px"
   },
   "navigate_menu": true,
   "number_sections": true,
   "sideBar": true,
   "threshold": 4,
   "toc_cell": false,
   "toc_section_display": "block",
   "toc_window_display": false
  }
 },
 "nbformat": 4,
 "nbformat_minor": 1
}
