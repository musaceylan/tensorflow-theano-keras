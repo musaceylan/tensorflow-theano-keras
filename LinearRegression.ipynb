import pandas as pd
from sklearn import linear_model
%matplotlib inline 

dataset = pd.read_csv("input_data.csv")
print len(dataset)


def split_data(dataset):
	square_feet_values = []
	price_values =[]
	for square_feet ,price in zip(dataset['square_feet'], dataset['price']):
		square_feet_values.append([square_feet])
		price_values([price])

	return	 square_feet_values,price_values	

train_x, train_y = split_data(dataset)

regr = linear_model.LinearRegression()

regr.fit(train_x,train_y)

plt.scatter(train_x,train_y,color = 'blue')
plt.plot(train_x,regr.predict(train_x), color = 'Red', linewidht =4)
plt.show()