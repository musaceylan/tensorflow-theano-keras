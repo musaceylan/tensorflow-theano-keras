{
 "cells": [
  {
   "cell_type": "code",
   "execution_count": 1,
   "metadata": {
    "ExecuteTime": {
     "end_time": "2016-12-26T13:25:23.856582",
     "start_time": "2016-12-26T13:25:21.351328"
    },
    "collapsed": false,
    "run_control": {
     "frozen": false,
     "read_only": false
    }
   },
   "outputs": [],
   "source": [
    "import tensorflow as tf\n",
    "import numpy as np\n",
    "import math"
   ]
  },
  {
   "cell_type": "code",
   "execution_count": 2,
   "metadata": {
    "ExecuteTime": {
     "end_time": "2016-12-26T13:25:28.098450",
     "start_time": "2016-12-26T13:25:28.091121"
    },
    "collapsed": true
   },
   "outputs": [],
   "source": [
    "try:\n",
    "    from tqdm import tqdm\n",
    "except ImportError:\n",
    "    def tqdm(x, *args, **kwargs):\n",
    "        return x\n",
    "\n",
    "# Set random seed\n",
    "np.random.seed(0)"
   ]
  },
  {
   "cell_type": "code",
   "execution_count": 4,
   "metadata": {
    "ExecuteTime": {
     "end_time": "2016-12-26T13:25:53.577960",
     "start_time": "2016-12-26T13:25:53.518639"
    },
    "collapsed": false
   },
   "outputs": [
    {
     "name": "stdout",
     "output_type": "stream",
     "text": [
      "[[ 0.  0.  0. ...,  0.  0.  0.]\n",
      " [ 0.  0.  0. ...,  0.  0.  0.]\n",
      " [ 0.  0.  0. ...,  0.  0.  0.]\n",
      " ..., \n",
      " [ 0.  0.  0. ...,  0.  0.  0.]\n",
      " [ 0.  0.  0. ...,  0.  0.  0.]\n",
      " [ 0.  0.  0. ...,  0.  0.  0.]]\n",
      "0\n"
     ]
    }
   ],
   "source": [
    "# Load data\n",
    "data = np.load('data_with_labels.npz')\n",
    "train = data['arr_0']/255.\n",
    "labels = data['arr_1']\n",
    "# Look at some data\n",
    "print(train[0])\n",
    "print(labels[0])"
   ]
  },
  {
   "cell_type": "code",
   "execution_count": 5,
   "metadata": {
    "ExecuteTime": {
     "end_time": "2016-12-26T13:26:04.823914",
     "start_time": "2016-12-26T13:26:04.320306"
    },
    "collapsed": true
   },
   "outputs": [],
   "source": [
    "import matplotlib\n",
    "matplotlib.use('TkAgg')\n",
    "\n",
    "import matplotlib.pyplot as plt\n",
    "plt.ion()"
   ]
  },
  {
   "cell_type": "code",
   "execution_count": 6,
   "metadata": {
    "ExecuteTime": {
     "end_time": "2016-12-26T13:26:36.981721",
     "start_time": "2016-12-26T13:26:36.972914"
    },
    "collapsed": true
   },
   "outputs": [],
   "source": [
    "def to_onehot(labels, nclasses=5):\n",
    "    '''\n",
    "    Convert labels to \"one-hot\" format.\n",
    "    >>> a = [0,1,2,3]\n",
    "    >>> to_onehot(a,5)\n",
    "    array([[1.,0.,0.,0.,0.],\n",
    "        [0., 1., 0., 0., 0.],\n",
    "        [0.,0., 1., 0., 0.],\n",
    "        [0., 0., 0., 1., 0.]])\n",
    "    '''\n",
    "    outlabels = np.zeros((len(labels), nclasses))\n",
    "    for i, l in enumerate(labels):\n",
    "        outlabels[i,l] = 1\n",
    "    return outlabels\n",
    "\n",
    "onehot = to_onehot(labels)"
   ]
  },
  {
   "cell_type": "code",
   "execution_count": 7,
   "metadata": {
    "ExecuteTime": {
     "end_time": "2016-12-26T13:28:37.369163",
     "start_time": "2016-12-26T13:28:37.314045"
    },
    "collapsed": true
   },
   "outputs": [],
   "source": [
    "# Split data into training and validation\n",
    "indices = np.random.permutation(train.shape[0])\n",
    "valid_cnt = int(train.shape[0] * 0.1)\n",
    "test_idx, training_idx = indices[:valid_cnt], indices[valid_cnt:]\n",
    "test, train = train[test_idx, :], train[training_idx, :]\n",
    "onehot_test, onehot_train = onehot[test_idx, :], onehot[training_idx, :]"
   ]
  },
  {
   "cell_type": "code",
   "execution_count": 8,
   "metadata": {
    "ExecuteTime": {
     "end_time": "2016-12-26T13:28:44.974479",
     "start_time": "2016-12-26T13:28:44.968050"
    },
    "collapsed": true
   },
   "outputs": [],
   "source": [
    "sess = tf.InteractiveSession()\n"
   ]
  },
  {
   "cell_type": "code",
   "execution_count": 11,
   "metadata": {
    "ExecuteTime": {
     "end_time": "2016-12-26T13:32:05.583659",
     "start_time": "2016-12-26T13:32:05.573375"
    },
    "collapsed": false
   },
   "outputs": [],
   "source": [
    "# These will be inputs\n",
    "## Input pixels, flattened\n",
    "x = tf.placeholder(\"float\", [None, 1296])\n",
    "\n",
    "## Known labels\n",
    "y_ = tf.placeholder(\"float\", [None, 5])\n"
   ]
  },
  {
   "cell_type": "code",
   "execution_count": 16,
   "metadata": {
    "ExecuteTime": {
     "end_time": "2016-12-26T13:33:41.224152",
     "start_time": "2016-12-26T13:33:41.191870"
    },
    "collapsed": false
   },
   "outputs": [
    {
     "name": "stdout",
     "output_type": "stream",
     "text": [
      "Tensor(\"Variable_5/read:0\", shape=(128,), dtype=float32)\n"
     ]
    }
   ],
   "source": [
    "#Hidden Layer 1\n",
    "num_hidden1 = 128\n",
    "W1 = tf.Variable(tf.truncated_normal([1296, num_hidden1], stddev=1./math.sqrt(1296)))\n",
    "b1 = tf.Variable(tf.constant(0.1, shape=[num_hidden1]))\n",
    "h1 = tf.sigmoid(tf.matmul(x, W1) + b1)\n"
   ]
  },
  {
   "cell_type": "code",
   "execution_count": 17,
   "metadata": {
    "ExecuteTime": {
     "end_time": "2016-12-26T13:34:10.931500",
     "start_time": "2016-12-26T13:34:10.902730"
    },
    "collapsed": true
   },
   "outputs": [],
   "source": [
    "# Hidden Layer 2\n",
    "num_hidden2 = 32\n",
    "W2 = tf.Variable(tf.truncated_normal([num_hidden1, num_hidden2], stddev=2./math.sqrt(num_hidden1)))\n",
    "b2 = tf.Variable(tf.constant(0.2, shape=[num_hidden2]))\n",
    "h2 = tf.sigmoid(tf.matmul(h1,W2) + b2)"
   ]
  },
  {
   "cell_type": "code",
   "execution_count": 18,
   "metadata": {
    "ExecuteTime": {
     "end_time": "2016-12-26T13:34:26.827112",
     "start_time": "2016-12-26T13:34:26.804817"
    },
    "collapsed": true
   },
   "outputs": [],
   "source": [
    "\n",
    "# Output Layer\n",
    "W3 = tf.Variable(tf.truncated_normal([num_hidden2, 5], stddev=1./math.sqrt(5)))\n",
    "\n",
    "b3 = tf.Variable(tf.constant(0.1,shape=[5]))"
   ]
  },
  {
   "cell_type": "code",
   "execution_count": 19,
   "metadata": {
    "ExecuteTime": {
     "end_time": "2016-12-26T13:35:07.408640",
     "start_time": "2016-12-26T13:35:07.336569"
    },
    "collapsed": true
   },
   "outputs": [],
   "source": [
    "# Just initialize\n",
    "sess.run(tf.initialize_all_variables())"
   ]
  },
  {
   "cell_type": "code",
   "execution_count": 20,
   "metadata": {
    "ExecuteTime": {
     "end_time": "2016-12-26T13:35:16.968696",
     "start_time": "2016-12-26T13:35:16.960341"
    },
    "collapsed": true
   },
   "outputs": [],
   "source": [
    "# Define model\n",
    "y = tf.nn.softmax(tf.matmul(h2,W3) + b3)"
   ]
  },
  {
   "cell_type": "code",
   "execution_count": 21,
   "metadata": {
    "ExecuteTime": {
     "end_time": "2016-12-26T13:35:38.715234",
     "start_time": "2016-12-26T13:35:38.556604"
    },
    "collapsed": true
   },
   "outputs": [],
   "source": [
    "# Climb on cross-entropy\n",
    "\n",
    "cross_entropy = tf.reduce_mean(\n",
    "    tf.nn.softmax_cross_entropy_with_logits(y + 1e-50, y_)\n",
    ")\n"
   ]
  },
  {
   "cell_type": "code",
   "execution_count": 22,
   "metadata": {
    "ExecuteTime": {
     "end_time": "2016-12-26T13:36:36.707989",
     "start_time": "2016-12-26T13:36:36.532628"
    },
    "collapsed": true
   },
   "outputs": [],
   "source": [
    "# How we train\n",
    "train_step = tf.train.GradientDescentOptimizer(0.01).minimize(cross_entropy)\n",
    "\n",
    "# Define accuracy\n",
    "correct_prediction = tf.equal(tf.argmax(y,1), tf.argmax(y_,1))\n",
    "accuracy = tf.reduce_mean(tf.cast(correct_prediction, \"float\"))"
   ]
  },
  {
   "cell_type": "code",
   "execution_count": 23,
   "metadata": {
    "ExecuteTime": {
     "end_time": "2016-12-26T14:11:39.673245",
     "start_time": "2016-12-26T13:40:33.168847"
    },
    "collapsed": true
   },
   "outputs": [],
   "source": [
    "# Actually train\n",
    "\n",
    "epochs = 25000\n",
    "train_acc = np.zeros(epochs//10)\n",
    "test_acc = np.zeros(epochs//10)\n",
    "for i in tqdm(range(epochs), ascii=True):\n",
    "    if i % 10 == 0: #Record summary data, and the accuracy\n",
    "        # Check accuracy on train set\n",
    "        A = accuracy.eval(feed_dict={x:train.reshape([-1,1296]), y_: onehot_train})\n",
    "        train_acc[i//10] = A\n",
    "        # And now the validation set\n",
    "        A = accuracy.eval(feed_dict={x: test.reshape([-1,1296]), y_: onehot_test})\n",
    "        test_acc[i//10] = A\n",
    "    train_step.run(feed_dict={x:train.reshape([-1,1296]), y_: onehot_train})"
   ]
  },
  {
   "cell_type": "code",
   "execution_count": 24,
   "metadata": {
    "ExecuteTime": {
     "end_time": "2016-12-26T14:11:40.101941",
     "start_time": "2016-12-26T14:11:39.731438"
    },
    "collapsed": false
   },
   "outputs": [
    {
     "data": {
      "text/plain": [
       "[<matplotlib.lines.Line2D at 0x11d9e36d8>]"
      ]
     },
     "execution_count": 24,
     "metadata": {},
     "output_type": "execute_result"
    }
   ],
   "source": [
    "# Plot the accuracy curves\n",
    "plt.figure(figsize=(6,6))\n",
    "plt.plot(train_acc, 'bo')\n",
    "plt.plot(test_acc, 'rx')"
   ]
  },
  {
   "cell_type": "code",
   "execution_count": 25,
   "metadata": {
    "ExecuteTime": {
     "end_time": "2016-12-26T14:51:40.288166",
     "start_time": "2016-12-26T14:51:39.925717"
    },
    "collapsed": false
   },
   "outputs": [
    {
     "data": {
      "text/plain": [
       "<matplotlib.colorbar.Colorbar at 0x120056208>"
      ]
     },
     "execution_count": 25,
     "metadata": {},
     "output_type": "execute_result"
    }
   ],
   "source": [
    "# Look at the final testing confusion matrix\n",
    "pred = np.argmax(y.eval(feed_dict={x: test.reshape([-1,1296]), y_: onehot_test}), axis = 1)\n",
    "conf = np.zeros([5,5])\n",
    "for p, t in zip(pred,np.argmax(onehot_test, axis = 1)):\n",
    "    conf[t,p] += 1\n",
    "plt.matshow(conf)\n",
    "plt.colorbar()"
   ]
  },
  {
   "cell_type": "code",
   "execution_count": 26,
   "metadata": {
    "ExecuteTime": {
     "end_time": "2016-12-26T14:52:20.422336",
     "start_time": "2016-12-26T14:52:17.603526"
    },
    "collapsed": true
   },
   "outputs": [],
   "source": [
    "# Let's look at a subplot of some weights\n",
    "plt.figure(figsize=(6,6))\n",
    "f, plts = plt.subplots(4,8, sharex = True)\n",
    "for i in range(32):\n",
    "    plts[i//8, i%8].matshow(W1.eval()[:, i].reshape([36,36]))\n"
   ]
  },
  {
   "cell_type": "code",
   "execution_count": 27,
   "metadata": {
    "ExecuteTime": {
     "end_time": "2016-12-26T14:52:33.485446",
     "start_time": "2016-12-26T14:52:33.184101"
    },
    "collapsed": false
   },
   "outputs": [
    {
     "data": {
      "text/plain": [
       "<matplotlib.colorbar.Colorbar at 0x12838bef0>"
      ]
     },
     "execution_count": 27,
     "metadata": {},
     "output_type": "execute_result"
    }
   ],
   "source": [
    "# Examine the output weights\n",
    "plt.matshow(W3.eval())\n",
    "plt.colorbar()\n"
   ]
  },
  {
   "cell_type": "code",
   "execution_count": 28,
   "metadata": {
    "ExecuteTime": {
     "end_time": "2016-12-26T14:52:44.710029",
     "start_time": "2016-12-26T14:52:41.686035"
    },
    "collapsed": false
   },
   "outputs": [
    {
     "ename": "ValueError",
     "evalue": "Restore called with invalid save path: 'mlp.ckpt'. File path is: 'mlp.ckpt'",
     "output_type": "error",
     "traceback": [
      "\u001b[0;31m---------------------------------------------------------------------------\u001b[0m",
      "\u001b[0;31mValueError\u001b[0m                                Traceback (most recent call last)",
      "\u001b[0;32m<ipython-input-28-318cd929a5e1>\u001b[0m in \u001b[0;36m<module>\u001b[0;34m()\u001b[0m\n\u001b[1;32m      4\u001b[0m \u001b[0;34m\u001b[0m\u001b[0m\n\u001b[1;32m      5\u001b[0m \u001b[0;31m# Restore\u001b[0m\u001b[0;34m\u001b[0m\u001b[0;34m\u001b[0m\u001b[0m\n\u001b[0;32m----> 6\u001b[0;31m \u001b[0msaver\u001b[0m\u001b[0;34m.\u001b[0m\u001b[0mrestore\u001b[0m\u001b[0;34m(\u001b[0m\u001b[0msess\u001b[0m\u001b[0;34m,\u001b[0m \u001b[0;34m\"mlp.ckpt\"\u001b[0m\u001b[0;34m)\u001b[0m\u001b[0;34m\u001b[0m\u001b[0m\n\u001b[0m",
      "\u001b[0;32m/Users/musaceylan/anaconda/lib/python3.5/site-packages/tensorflow/python/training/saver.py\u001b[0m in \u001b[0;36mrestore\u001b[0;34m(self, sess, save_path)\u001b[0m\n\u001b[1;32m   1340\u001b[0m       \u001b[0;32mif\u001b[0m \u001b[0;32mnot\u001b[0m \u001b[0mfile_io\u001b[0m\u001b[0;34m.\u001b[0m\u001b[0mget_matching_files\u001b[0m\u001b[0;34m(\u001b[0m\u001b[0mfile_path\u001b[0m\u001b[0;34m)\u001b[0m\u001b[0;34m:\u001b[0m\u001b[0;34m\u001b[0m\u001b[0m\n\u001b[1;32m   1341\u001b[0m         raise ValueError(\"Restore called with invalid save path: %r. \"\n\u001b[0;32m-> 1342\u001b[0;31m                          \"File path is: %r\" % (save_path, file_path))\n\u001b[0m\u001b[1;32m   1343\u001b[0m \u001b[0;34m\u001b[0m\u001b[0m\n\u001b[1;32m   1344\u001b[0m     sess.run(self.saver_def.restore_op_name,\n",
      "\u001b[0;31mValueError\u001b[0m: Restore called with invalid save path: 'mlp.ckpt'. File path is: 'mlp.ckpt'"
     ]
    }
   ],
   "source": [
    "# Examine the output weights\n",
    "saver = tf.train.Saver()\n",
    "saver.save(sess, \"mpl.ckpt\")\n",
    "\n",
    "# Restore\n",
    "saver.restore(sess, \"mlp.ckpt\")\n"
   ]
  },
  {
   "cell_type": "code",
   "execution_count": null,
   "metadata": {
    "collapsed": true
   },
   "outputs": [],
   "source": []
  }
 ],
 "metadata": {
  "anaconda-cloud": {},
  "hide_input": false,
  "kernelspec": {
   "display_name": "Python [default]",
   "language": "python",
   "name": "python3"
  },
  "language_info": {
   "codemirror_mode": {
    "name": "ipython",
    "version": 3
   },
   "file_extension": ".py",
   "mimetype": "text/x-python",
   "name": "python",
   "nbconvert_exporter": "python",
   "pygments_lexer": "ipython3",
   "version": "3.5.2"
  },
  "latex_envs": {
   "LaTeX_envs_menu_present": true,
   "bibliofile": "biblio.bib",
   "cite_by": "apalike",
   "current_citInitial": 1,
   "eqLabelWithNumbers": true,
   "eqNumInitial": 1,
   "labels_anchors": false,
   "latex_user_defs": false,
   "report_style_numbering": false,
   "user_envs_cfg": false
  },
  "toc": {
   "colors": {
    "hover_highlight": "#DAA520",
    "running_highlight": "#FF0000",
    "selected_highlight": "#FFD700"
   },
   "moveMenuLeft": true,
   "nav_menu": {
    "height": "4px",
    "width": "254px"
   },
   "navigate_menu": true,
   "number_sections": true,
   "sideBar": true,
   "threshold": 4,
   "toc_cell": false,
   "toc_section_display": "block",
   "toc_window_display": false
  }
 },
 "nbformat": 4,
 "nbformat_minor": 1
}
