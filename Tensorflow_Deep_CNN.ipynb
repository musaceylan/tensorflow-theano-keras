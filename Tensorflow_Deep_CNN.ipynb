{
 "cells": [
  {
   "cell_type": "code",
   "execution_count": 13,
   "metadata": {
    "ExecuteTime": {
     "end_time": "2017-01-03T15:50:37.846739",
     "start_time": "2017-01-03T15:50:37.843047"
    },
    "collapsed": false,
    "run_control": {
     "frozen": false,
     "read_only": false
    }
   },
   "outputs": [],
   "source": [
    "import tensorflow as tf\n",
    "import math\n",
    "import numpy as np "
   ]
  },
  {
   "cell_type": "code",
   "execution_count": 2,
   "metadata": {
    "ExecuteTime": {
     "end_time": "2017-01-03T15:39:56.035929",
     "start_time": "2017-01-03T15:39:56.029256"
    },
    "collapsed": false,
    "run_control": {
     "frozen": false,
     "read_only": false
    }
   },
   "outputs": [],
   "source": [
    "try:\n",
    "    from tqdm import tqdm\n",
    "except ImportError:\n",
    "    def tqdm(x,*args , **kwargs):\n",
    "        return x"
   ]
  },
  {
   "cell_type": "code",
   "execution_count": 3,
   "metadata": {
    "ExecuteTime": {
     "end_time": "2017-01-03T15:40:07.348861",
     "start_time": "2017-01-03T15:40:07.297299"
    },
    "collapsed": false,
    "run_control": {
     "frozen": false,
     "read_only": false
    }
   },
   "outputs": [
    {
     "name": "stdout",
     "output_type": "stream",
     "text": [
      "[[ 0.  0.  0. ...,  0.  0.  0.]\n",
      " [ 0.  0.  0. ...,  0.  0.  0.]\n",
      " [ 0.  0.  0. ...,  0.  0.  0.]\n",
      " ..., \n",
      " [ 0.  0.  0. ...,  0.  0.  0.]\n",
      " [ 0.  0.  0. ...,  0.  0.  0.]\n",
      " [ 0.  0.  0. ...,  0.  0.  0.]]\n",
      "0\n"
     ]
    }
   ],
   "source": [
    "data = np.load('data_with_labels.npz')\n",
    "train= data['arr_0']/255.\n",
    "labels = data['arr_1']\n",
    "\n",
    "print(train[0])\n",
    "print(labels[0])"
   ]
  },
  {
   "cell_type": "code",
   "execution_count": 4,
   "metadata": {
    "ExecuteTime": {
     "end_time": "2017-01-03T15:40:21.042162",
     "start_time": "2017-01-03T15:40:20.645792"
    },
    "collapsed": false,
    "run_control": {
     "frozen": false,
     "read_only": false
    }
   },
   "outputs": [],
   "source": [
    "import matplotlib.pyplot as plt\n",
    "plt.ion()"
   ]
  },
  {
   "cell_type": "code",
   "execution_count": 5,
   "metadata": {
    "ExecuteTime": {
     "end_time": "2017-01-03T15:45:34.928471",
     "start_time": "2017-01-03T15:45:34.915840"
    },
    "collapsed": false,
    "run_control": {
     "frozen": false,
     "read_only": false
    }
   },
   "outputs": [
    {
     "name": "stdout",
     "output_type": "stream",
     "text": [
      "[[ 1.  0.  0.  0.  0.]\n",
      " [ 1.  0.  0.  0.  0.]\n",
      " [ 1.  0.  0.  0.  0.]\n",
      " ..., \n",
      " [ 0.  0.  0.  0.  1.]\n",
      " [ 0.  0.  0.  0.  1.]\n",
      " [ 0.  0.  0.  0.  1.]]\n"
     ]
    }
   ],
   "source": [
    "def to_onehot(labels, nclasses = 5):\n",
    "    '''\n",
    "    Convert labels to \"one-hot\" format.\n",
    "    >>> a = [0,1,2,3]\n",
    "    >>> to_onehot(a,5)\n",
    "    array([[1., 0., 0., 0., 0.],\n",
    "           [0., 1., 0., 0., 0.],\n",
    "           [0., 0., 1., 0., 0.],\n",
    "           [0., 0., 0., 1. 0.]])\n",
    "    '''\n",
    "    outlabels = np.zeros((len(labels), nclasses))\n",
    "    for i, l in enumerate(labels):\n",
    "        outlabels[i,l] = 1\n",
    "    return outlabels\n",
    "\n",
    "onehot = to_onehot(labels)\n",
    "\n",
    "print(onehot)"
   ]
  },
  {
   "cell_type": "code",
   "execution_count": 6,
   "metadata": {
    "ExecuteTime": {
     "end_time": "2017-01-03T15:45:54.396514",
     "start_time": "2017-01-03T15:45:54.342582"
    },
    "collapsed": false,
    "run_control": {
     "frozen": false,
     "read_only": false
    }
   },
   "outputs": [],
   "source": [
    "# Split data into training and validation\n",
    "\n",
    "indices = np.random.permutation(train.shape[0])\n",
    "valid_cnt = int(train.shape[0] * 0.1)\n",
    "test_idx, training_idx = indices[:valid_cnt], indices[valid_cnt:]\n",
    "test, train = train[test_idx, :], train[training_idx, :]\n",
    "onehot_test, onehot_train = onehot[test_idx, :], onehot[training_idx, :]\n"
   ]
  },
  {
   "cell_type": "code",
   "execution_count": 7,
   "metadata": {
    "ExecuteTime": {
     "end_time": "2017-01-03T15:46:14.478774",
     "start_time": "2017-01-03T15:46:14.471043"
    },
    "collapsed": false,
    "run_control": {
     "frozen": false,
     "read_only": false
    }
   },
   "outputs": [],
   "source": [
    "sess = tf.InteractiveSession()"
   ]
  },
  {
   "cell_type": "code",
   "execution_count": 15,
   "metadata": {
    "ExecuteTime": {
     "end_time": "2017-01-03T15:51:15.147051",
     "start_time": "2017-01-03T15:51:15.137641"
    },
    "collapsed": false,
    "run_control": {
     "frozen": false,
     "read_only": false
    }
   },
   "outputs": [],
   "source": [
    "\n",
    "# These will be inputs\n",
    "## Input pixes, flattened\n",
    "x = tf.placeholder(\"float\", [None, 36,36])\n",
    "x_im = tf.reshape(x,[-1,36,36,1])\n",
    "\n",
    "## Known labels\n",
    "y_ = tf.placeholder(\"float\", [None, 5])"
   ]
  },
  {
   "cell_type": "code",
   "execution_count": 11,
   "metadata": {
    "ExecuteTime": {
     "end_time": "2017-01-03T15:48:44.221576",
     "start_time": "2017-01-03T15:48:44.216461"
    },
    "collapsed": false,
    "run_control": {
     "frozen": false,
     "read_only": false
    }
   },
   "outputs": [],
   "source": [
    "# Con Layer 1 \n",
    "num_filters = 4\n",
    "winx=5\n",
    "winy=5\n"
   ]
  },
  {
   "cell_type": "code",
   "execution_count": 14,
   "metadata": {
    "ExecuteTime": {
     "end_time": "2017-01-03T15:50:41.007717",
     "start_time": "2017-01-03T15:50:40.979401"
    },
    "collapsed": false,
    "run_control": {
     "frozen": false,
     "read_only": false
    }
   },
   "outputs": [],
   "source": [
    "W1 = tf.Variable(tf.truncated_normal([winx,winy,1,num_filters],stddev=1./math.sqrt(winx*winy)))\n",
    "b1 = tf.Variable(tf.constant(0.1,shape=[num_filters]))"
   ]
  },
  {
   "cell_type": "code",
   "execution_count": 16,
   "metadata": {
    "ExecuteTime": {
     "end_time": "2017-01-03T15:53:16.454367",
     "start_time": "2017-01-03T15:53:16.436885"
    },
    "collapsed": false,
    "run_control": {
     "frozen": false,
     "read_only": false
    }
   },
   "outputs": [],
   "source": [
    "xw = tf.nn.conv2d(x_im,W1,strides=[1,1,1,1],padding='SAME')\n",
    "h1 = tf.nn.relu(xw+b1)\n",
    "p1 = tf.nn.max_pool(h1,ksize=[1,2,2,1],strides=[1,2,2,1],padding='VALID')"
   ]
  },
  {
   "cell_type": "code",
   "execution_count": 19,
   "metadata": {
    "ExecuteTime": {
     "end_time": "2017-01-03T16:00:24.516076",
     "start_time": "2017-01-03T16:00:24.508692"
    },
    "collapsed": false,
    "run_control": {
     "frozen": false,
     "read_only": false
    }
   },
   "outputs": [],
   "source": [
    "p1_size = np.product([s.value for s in p1.get_shape()[1:]])\n",
    "p1f = tf.reshape(p1,[-1,p1_size])"
   ]
  },
  {
   "cell_type": "code",
   "execution_count": 20,
   "metadata": {
    "ExecuteTime": {
     "end_time": "2017-01-03T16:00:25.101578",
     "start_time": "2017-01-03T16:00:25.076199"
    },
    "collapsed": false,
    "run_control": {
     "frozen": false,
     "read_only": false
    }
   },
   "outputs": [],
   "source": [
    "#dense layer\n",
    "num_hidden =32 \n",
    "W2 = tf.Variable(tf.truncated_normal([p1_size,num_hidden],stddev=2./math.sqrt(p1_size)))\n",
    "b2 = tf.Variable(tf.constant(0.2,shape=[num_hidden]))\n",
    "h2 = tf.nn.relu(tf.matmul(p1f,W2)+b2)"
   ]
  },
  {
   "cell_type": "code",
   "execution_count": 21,
   "metadata": {
    "ExecuteTime": {
     "end_time": "2017-01-03T16:03:19.362999",
     "start_time": "2017-01-03T16:03:19.288005"
    },
    "collapsed": false,
    "run_control": {
     "frozen": false,
     "read_only": false
    }
   },
   "outputs": [],
   "source": [
    "#output layer \n",
    "\n",
    "W3 = tf.Variable(tf.truncated_normal([num_hidden,5],stddev=1./math.sqrt(num_hidden)))\n",
    "b3 = tf.Variable(tf.constant(0.1,shape=[5]))\n",
    "\n",
    "keep_prob = tf.placeholder(\"float\")\n",
    "h2_drop = tf.nn.dropout(h2,keep_prob)"
   ]
  },
  {
   "cell_type": "code",
   "execution_count": 22,
   "metadata": {
    "ExecuteTime": {
     "end_time": "2017-01-03T16:03:41.988803",
     "start_time": "2017-01-03T16:03:41.870199"
    },
    "collapsed": false,
    "run_control": {
     "frozen": false,
     "read_only": false
    }
   },
   "outputs": [],
   "source": [
    "sess.run(tf.initialize_all_variables())"
   ]
  },
  {
   "cell_type": "code",
   "execution_count": 23,
   "metadata": {
    "ExecuteTime": {
     "end_time": "2017-01-03T16:04:23.186014",
     "start_time": "2017-01-03T16:04:23.179308"
    },
    "collapsed": false,
    "run_control": {
     "frozen": false,
     "read_only": false
    }
   },
   "outputs": [],
   "source": [
    "y = tf.nn.softmax(tf.matmul(h2_drop,W3)+b3)"
   ]
  },
  {
   "cell_type": "code",
   "execution_count": 24,
   "metadata": {
    "ExecuteTime": {
     "end_time": "2017-01-03T16:05:18.920647",
     "start_time": "2017-01-03T16:05:18.877673"
    },
    "collapsed": false,
    "run_control": {
     "frozen": false,
     "read_only": false
    }
   },
   "outputs": [],
   "source": [
    "cross_entropy = tf.reduce_mean(tf.nn.softmax_cross_entropy_with_logits(y+1e-50,y_))"
   ]
  },
  {
   "cell_type": "code",
   "execution_count": 25,
   "metadata": {
    "ExecuteTime": {
     "end_time": "2017-01-03T16:05:57.184706",
     "start_time": "2017-01-03T16:05:56.682264"
    },
    "collapsed": false,
    "run_control": {
     "frozen": false,
     "read_only": false
    }
   },
   "outputs": [],
   "source": [
    "train_step = tf.train.GradientDescentOptimizer(0.01).minimize(cross_entropy)"
   ]
  },
  {
   "cell_type": "code",
   "execution_count": 26,
   "metadata": {
    "ExecuteTime": {
     "end_time": "2017-01-03T16:07:37.465440",
     "start_time": "2017-01-03T16:07:37.450447"
    },
    "collapsed": false,
    "run_control": {
     "frozen": false,
     "read_only": false
    }
   },
   "outputs": [],
   "source": [
    "correct_prediction = tf.equal(tf.argmax(y,1),tf.argmax(y_,1))\n",
    "accuracy = tf.reduce_mean(tf.cast(correct_prediction,\"float\"))"
   ]
  },
  {
   "cell_type": "code",
   "execution_count": 30,
   "metadata": {
    "ExecuteTime": {
     "end_time": "2017-01-03T17:24:59.340218",
     "start_time": "2017-01-03T17:13:23.814957"
    },
    "collapsed": false,
    "run_control": {
     "frozen": false,
     "read_only": false
    }
   },
   "outputs": [],
   "source": [
    "epochs = 5000 \n",
    "train_acc = np.zeros(epochs//10)\n",
    "test_acc = np.zeros(epochs// 10)\n",
    "\n",
    "for i in tqdm(range(epochs), ascii=True):\n",
    "    if i % 10 == 0 :\n",
    "        A = accuracy.eval(feed_dict={x :train, y_: onehot_train,keep_prob:1.0})\n",
    "        train_acc[i//10] = A\n",
    "        A = accuracy.eval(feed_dict={x:test,y_:onehot_test, keep_prob:1.0})\n",
    "        test_acc[i//10] = A\n",
    "    train_step.run(feed_dict={x:train,y_:onehot_train,keep_prob:0.5})"
   ]
  },
  {
   "cell_type": "code",
   "execution_count": 31,
   "metadata": {
    "ExecuteTime": {
     "end_time": "2017-01-03T17:27:32.257700",
     "start_time": "2017-01-03T17:27:31.865981"
    },
    "collapsed": false,
    "run_control": {
     "frozen": false,
     "read_only": false
    }
   },
   "outputs": [
    {
     "data": {
      "text/plain": [
       "[<matplotlib.lines.Line2D at 0x1141d9c18>]"
      ]
     },
     "execution_count": 31,
     "metadata": {},
     "output_type": "execute_result"
    },
    {
     "data": {
      "image/png": "[encoded data removed]",
      "text/plain": [
       "<matplotlib.figure.Figure at 0x1141d9470>"
      ]
     },
     "metadata": {},
     "output_type": "display_data"
    }
   ],
   "source": [
    "plt.figure(figsize=(6,6))\n",
    "plt.plot(train_acc,'bo')\n",
    "plt.plot(test_acc,'rx')"
   ]
  },
  {
   "cell_type": "code",
   "execution_count": 33,
   "metadata": {
    "ExecuteTime": {
     "end_time": "2017-01-03T17:28:08.988899",
     "start_time": "2017-01-03T17:28:08.456914"
    },
    "collapsed": false,
    "run_control": {
     "frozen": false,
     "read_only": false
    }
   },
   "outputs": [
    {
     "data": {
      "text/plain": [
       "<matplotlib.colorbar.Colorbar at 0x1141dc390>"
      ]
     },
     "execution_count": 33,
     "metadata": {},
     "output_type": "execute_result"
    },
    {
     "data": {
      "image/png": "[encoded data removed]",
      "text/plain": [
       "<matplotlib.figure.Figure at 0x1141dc780>"
      ]
     },
     "metadata": {},
     "output_type": "display_data"
    }
   ],
   "source": [
    "pred = np.argmax(y.eval(feed_dict={x:test , keep_prob:1.0}),axis=1)\n",
    "conf= np.zeros([5,5])\n",
    "for p,t in zip(pred,np.argmax(onehot_test,axis=1)):\n",
    "    conf[t,p] +=1 \n",
    "    \n",
    "plt.matshow(conf)\n",
    "plt.colorbar()\n"
   ]
  },
  {
   "cell_type": "code",
   "execution_count": 34,
   "metadata": {
    "ExecuteTime": {
     "end_time": "2017-01-03T17:41:18.222629",
     "start_time": "2017-01-03T17:41:17.054813"
    },
    "collapsed": false,
    "run_control": {
     "frozen": false,
     "read_only": false
    }
   },
   "outputs": [
    {
     "data": {
      "text/plain": [
       "<matplotlib.colorbar.Colorbar at 0x1172f91d0>"
      ]
     },
     "execution_count": 34,
     "metadata": {},
     "output_type": "execute_result"
    },
    {
     "data": {
      "image/png": "[encoded data removed]",
      "text/plain": [
       "<matplotlib.figure.Figure at 0x1055f9dd8>"
      ]
     },
     "metadata": {},
     "output_type": "display_data"
    },
    {
     "data": {
      "image/png": "[encoded data removed]",
      "text/plain": [
       "<matplotlib.figure.Figure at 0x118514ac8>"
      ]
     },
     "metadata": {},
     "output_type": "display_data"
    }
   ],
   "source": [
    "f, plts = plt.subplots(4)\n",
    "for i in range(4):\n",
    "    plts[i].matshow(W1.eval()[:,:,0,i])\n",
    "    \n",
    "plt.matshow(W3.eval())\n",
    "plt.colorbar()"
   ]
  },
  {
   "cell_type": "code",
   "execution_count": 35,
   "metadata": {
    "ExecuteTime": {
     "end_time": "2017-01-03T17:43:44.208711",
     "start_time": "2017-01-03T17:43:40.983772"
    },
    "collapsed": false,
    "run_control": {
     "frozen": false,
     "read_only": false
    }
   },
   "outputs": [],
   "source": [
    "#save the weights \n",
    "saver = tf.train.Saver()\n",
    "saver.save(sess,\"conv1.ckpt\")\n",
    "\n",
    "#restore \n",
    "\n",
    "saver.restore(sess,\"conv1.ckpt\")"
   ]
  },
  {
   "cell_type": "code",
   "execution_count": 36,
   "metadata": {
    "ExecuteTime": {
     "end_time": "2017-01-03T17:45:15.653589",
     "start_time": "2017-01-03T17:45:15.553527"
    },
    "collapsed": false,
    "run_control": {
     "frozen": false,
     "read_only": false
    }
   },
   "outputs": [],
   "source": [
    "def save_all(name= 'conv1'):\n",
    "    np.savez_compressed(name,W1.eval(),b1.eval(),W2.eval(),b2.eval(),W3.eval(),b3.eval())\n",
    "    \n",
    "save_all()"
   ]
  },
  {
   "cell_type": "code",
   "execution_count": 38,
   "metadata": {
    "ExecuteTime": {
     "end_time": "2017-01-03T17:48:18.581108",
     "start_time": "2017-01-03T17:48:18.463547"
    },
    "collapsed": false,
    "run_control": {
     "frozen": false,
     "read_only": false
    }
   },
   "outputs": [],
   "source": [
    "def load_all(name='conv1.npz'):\n",
    "    data = np.load(name)\n",
    "    sess.run(W1.assign(data['arr_0']))\n",
    "    sess.run(b1.assign(data['arr_1']))    \n",
    "    sess.run(W2.assign(data['arr_2']))\n",
    "    sess.run(b2.assign(data['arr_3']))\n",
    "    sess.run(W3.assign(data['arr_4']))\n",
    "    sess.run(b3.assign(data['arr_5']))\n",
    "    \n",
    "load_all()"
   ]
  },
  {
   "cell_type": "code",
   "execution_count": null,
   "metadata": {
    "collapsed": false,
    "run_control": {
     "frozen": false,
     "read_only": false
    }
   },
   "outputs": [],
   "source": []
  }
 ],
 "metadata": {
  "anaconda-cloud": {},
  "hide_input": false,
  "kernelspec": {
   "display_name": "Python [default]",
   "language": "python",
   "name": "python3"
  },
  "latex_envs": {
   "LaTeX_envs_menu_present": true,
   "bibliofile": "biblio.bib",
   "cite_by": "apalike",
   "current_citInitial": 1,
   "eqLabelWithNumbers": true,
   "eqNumInitial": 1,
   "labels_anchors": false,
   "latex_user_defs": false,
   "report_style_numbering": false,
   "user_envs_cfg": false
  },
  "toc": {
   "colors": {
    "hover_highlight": "#DAA520",
    "running_highlight": "#FF0000",
    "selected_highlight": "#FFD700"
   },
   "moveMenuLeft": true,
   "nav_menu": {
    "height": "4px",
    "width": "254px"
   },
   "navigate_menu": true,
   "number_sections": true,
   "sideBar": true,
   "threshold": 4,
   "toc_cell": false,
   "toc_section_display": "block",
   "toc_window_display": false
  }
 },
 "nbformat": 4,
 "nbformat_minor": 2
}
